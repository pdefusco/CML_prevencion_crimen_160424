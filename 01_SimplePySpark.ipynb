{
 "cells": [
  {
   "cell_type": "markdown",
   "id": "2148b9f4-c98b-44c3-9ab9-359e52730359",
   "metadata": {},
   "source": [
    "## PySpark Basics in CML"
   ]
  },
  {
   "cell_type": "markdown",
   "id": "d0f53dde-24d0-42d8-a4fa-9ef056d47a11",
   "metadata": {},
   "source": [
    "**Apache Spark is a general purpose framework for distributed computing that offers high performance for both batch and stream processing. It exposes APIs for Java, Python, R, and Scala, as well as an interactive shell for you to run jobs.**\n",
    "\n",
    "**In Cloudera Machine Learning (CML), Spark and its dependencies are bundled directly into the CML engine Docker image or CML Runtime. CML supports fully-containerized execution of Spark workloads via Spark's support for the Kubernetes cluster backend. Users can interact with Spark both interactively and in batch mode.**\n",
    "\n",
    " "
   ]
  },
  {
   "cell_type": "markdown",
   "id": "21a8b8a0-21a3-4f8a-beaf-bf8bda467671",
   "metadata": {
    "tags": []
   },
   "source": [
    "![title](img/sparkonk8s.png)"
   ]
  },
  {
   "cell_type": "markdown",
   "id": "26860dbb-87fe-442a-aff4-82e9879394f8",
   "metadata": {},
   "source": [
    "**The bottom line: Spark on CML is dramatically easier to use than Spark on Yarn on CDSW or other platforms. There is no need to distribute dependencies among execuotors. You can easily spin up multi-executor distributed Spark Sessions and interrupt them as needed, all within quotas and other cost monitoring constraints**"
   ]
  },
  {
   "cell_type": "code",
   "execution_count": 1,
   "id": "26037ffe-f8c9-49e6-979c-91b3564a91ea",
   "metadata": {
    "tags": []
   },
   "outputs": [],
   "source": [
    "from pyspark.sql import SparkSession\n",
    "from pyspark.sql import functions as F"
   ]
  },
  {
   "cell_type": "code",
   "execution_count": 2,
   "id": "d3758592-d2bc-4ce2-a2b9-2d155ff9a910",
   "metadata": {
    "tags": []
   },
   "outputs": [],
   "source": [
    "import numpy as np\n",
    "import pandas as pd\n",
    "import os\n",
    "import matplotlib.pyplot as plt"
   ]
  },
  {
   "cell_type": "markdown",
   "id": "f97b0d0e-ec59-4e7d-b010-79d7ae6c43c7",
   "metadata": {},
   "source": [
    "**A simple, single pod Spark Session can be instantiated as shown below. This creates a single pod for the Spark application**"
   ]
  },
  {
   "cell_type": "code",
   "execution_count": 3,
   "id": "ce7cb2e7-47d7-4d68-8782-09356b9843bd",
   "metadata": {
    "tags": []
   },
   "outputs": [
    {
     "name": "stderr",
     "output_type": "stream",
     "text": [
      "Using Spark's default log4j profile: org/apache/spark/log4j-defaults.properties\n",
      "Setting default log level to \"WARN\".\n",
      "To adjust logging level use sc.setLogLevel(newLevel). For SparkR, use setLogLevel(newLevel).\n",
      "24/04/16 03:56:27 WARN JettyUtils: GET /jobs/ failed: java.util.NoSuchElementException: Failed to get the application information. If you are starting up Spark, please wait a while until it's ready.\n",
      "java.util.NoSuchElementException: Failed to get the application information. If you are starting up Spark, please wait a while until it's ready.\n",
      "\tat org.apache.spark.status.AppStatusStore.applicationInfo(AppStatusStore.scala:51)\n",
      "\tat org.apache.spark.ui.jobs.AllJobsPage.render(AllJobsPage.scala:276)\n",
      "\tat org.apache.spark.ui.WebUI.$anonfun$attachPage$1(WebUI.scala:90)\n",
      "\tat org.apache.spark.ui.JettyUtils$$anon$1.doGet(JettyUtils.scala:81)\n",
      "\tat javax.servlet.http.HttpServlet.service(HttpServlet.java:687)\n",
      "\tat javax.servlet.http.HttpServlet.service(HttpServlet.java:790)\n",
      "\tat org.sparkproject.jetty.servlet.ServletHolder.handle(ServletHolder.java:791)\n",
      "\tat org.sparkproject.jetty.servlet.ServletHandler$ChainEnd.doFilter(ServletHandler.java:1626)\n",
      "\tat org.apache.spark.ui.HttpSecurityFilter.doFilter(HttpSecurityFilter.scala:95)\n",
      "\tat org.sparkproject.jetty.servlet.FilterHolder.doFilter(FilterHolder.java:193)\n",
      "\tat org.sparkproject.jetty.servlet.ServletHandler$Chain.doFilter(ServletHandler.java:1601)\n",
      "\tat org.sparkproject.jetty.servlet.ServletHandler.doHandle(ServletHandler.java:548)\n",
      "\tat org.sparkproject.jetty.server.handler.ScopedHandler.nextHandle(ScopedHandler.java:233)\n",
      "\tat org.sparkproject.jetty.server.handler.ContextHandler.doHandle(ContextHandler.java:1435)\n",
      "\tat org.sparkproject.jetty.server.handler.ScopedHandler.nextScope(ScopedHandler.java:188)\n",
      "\tat org.sparkproject.jetty.servlet.ServletHandler.doScope(ServletHandler.java:501)\n",
      "\tat org.sparkproject.jetty.server.handler.ScopedHandler.nextScope(ScopedHandler.java:186)\n",
      "\tat org.sparkproject.jetty.server.handler.ContextHandler.doScope(ContextHandler.java:1350)\n",
      "\tat org.sparkproject.jetty.server.handler.ScopedHandler.handle(ScopedHandler.java:141)\n",
      "\tat org.sparkproject.jetty.server.handler.gzip.GzipHandler.handle(GzipHandler.java:763)\n",
      "\tat org.sparkproject.jetty.server.handler.ContextHandlerCollection.handle(ContextHandlerCollection.java:234)\n",
      "\tat org.sparkproject.jetty.server.handler.HandlerWrapper.handle(HandlerWrapper.java:127)\n",
      "\tat org.apache.spark.ui.ProxyRedirectHandler.handle(JettyUtils.scala:581)\n",
      "\tat org.sparkproject.jetty.server.handler.HandlerWrapper.handle(HandlerWrapper.java:127)\n",
      "\tat org.sparkproject.jetty.server.Server.handle(Server.java:516)\n",
      "\tat org.sparkproject.jetty.server.HttpChannel.lambda$handle$1(HttpChannel.java:388)\n",
      "\tat org.sparkproject.jetty.server.HttpChannel.dispatch(HttpChannel.java:633)\n",
      "\tat org.sparkproject.jetty.server.HttpChannel.handle(HttpChannel.java:380)\n",
      "\tat org.sparkproject.jetty.server.HttpConnection.onFillable(HttpConnection.java:277)\n",
      "\tat org.sparkproject.jetty.io.AbstractConnection$ReadCallback.succeeded(AbstractConnection.java:311)\n",
      "\tat org.sparkproject.jetty.io.FillInterest.fillable(FillInterest.java:105)\n",
      "\tat org.sparkproject.jetty.io.ChannelEndPoint$1.run(ChannelEndPoint.java:104)\n",
      "\tat org.sparkproject.jetty.util.thread.strategy.EatWhatYouKill.runTask(EatWhatYouKill.java:336)\n",
      "\tat org.sparkproject.jetty.util.thread.strategy.EatWhatYouKill.doProduce(EatWhatYouKill.java:313)\n",
      "\tat org.sparkproject.jetty.util.thread.strategy.EatWhatYouKill.tryProduce(EatWhatYouKill.java:171)\n",
      "\tat org.sparkproject.jetty.util.thread.strategy.EatWhatYouKill.produce(EatWhatYouKill.java:135)\n",
      "\tat org.sparkproject.jetty.util.thread.QueuedThreadPool.runJob(QueuedThreadPool.java:882)\n",
      "\tat org.sparkproject.jetty.util.thread.QueuedThreadPool$Runner.run(QueuedThreadPool.java:1036)\n",
      "\tat java.lang.Thread.run(Thread.java:750)\n",
      "24/04/16 03:56:27 WARN HttpChannel: /jobs/\n",
      "java.util.NoSuchElementException: Failed to get the application information. If you are starting up Spark, please wait a while until it's ready.\n",
      "\tat org.apache.spark.status.AppStatusStore.applicationInfo(AppStatusStore.scala:51)\n",
      "\tat org.apache.spark.ui.jobs.AllJobsPage.render(AllJobsPage.scala:276)\n",
      "\tat org.apache.spark.ui.WebUI.$anonfun$attachPage$1(WebUI.scala:90)\n",
      "\tat org.apache.spark.ui.JettyUtils$$anon$1.doGet(JettyUtils.scala:81)\n",
      "\tat javax.servlet.http.HttpServlet.service(HttpServlet.java:687)\n",
      "\tat javax.servlet.http.HttpServlet.service(HttpServlet.java:790)\n",
      "\tat org.sparkproject.jetty.servlet.ServletHolder.handle(ServletHolder.java:791)\n",
      "\tat org.sparkproject.jetty.servlet.ServletHandler$ChainEnd.doFilter(ServletHandler.java:1626)\n",
      "\tat org.apache.spark.ui.HttpSecurityFilter.doFilter(HttpSecurityFilter.scala:95)\n",
      "\tat org.sparkproject.jetty.servlet.FilterHolder.doFilter(FilterHolder.java:193)\n",
      "\tat org.sparkproject.jetty.servlet.ServletHandler$Chain.doFilter(ServletHandler.java:1601)\n",
      "\tat org.sparkproject.jetty.servlet.ServletHandler.doHandle(ServletHandler.java:548)\n",
      "\tat org.sparkproject.jetty.server.handler.ScopedHandler.nextHandle(ScopedHandler.java:233)\n",
      "\tat org.sparkproject.jetty.server.handler.ContextHandler.doHandle(ContextHandler.java:1435)\n",
      "\tat org.sparkproject.jetty.server.handler.ScopedHandler.nextScope(ScopedHandler.java:188)\n",
      "\tat org.sparkproject.jetty.servlet.ServletHandler.doScope(ServletHandler.java:501)\n",
      "\tat org.sparkproject.jetty.server.handler.ScopedHandler.nextScope(ScopedHandler.java:186)\n",
      "\tat org.sparkproject.jetty.server.handler.ContextHandler.doScope(ContextHandler.java:1350)\n",
      "\tat org.sparkproject.jetty.server.handler.ScopedHandler.handle(ScopedHandler.java:141)\n",
      "\tat org.sparkproject.jetty.server.handler.gzip.GzipHandler.handle(GzipHandler.java:763)\n",
      "\tat org.sparkproject.jetty.server.handler.ContextHandlerCollection.handle(ContextHandlerCollection.java:234)\n",
      "\tat org.sparkproject.jetty.server.handler.HandlerWrapper.handle(HandlerWrapper.java:127)\n",
      "\tat org.apache.spark.ui.ProxyRedirectHandler.handle(JettyUtils.scala:581)\n",
      "\tat org.sparkproject.jetty.server.handler.HandlerWrapper.handle(HandlerWrapper.java:127)\n",
      "\tat org.sparkproject.jetty.server.Server.handle(Server.java:516)\n",
      "\tat org.sparkproject.jetty.server.HttpChannel.lambda$handle$1(HttpChannel.java:388)\n",
      "\tat org.sparkproject.jetty.server.HttpChannel.dispatch(HttpChannel.java:633)\n",
      "\tat org.sparkproject.jetty.server.HttpChannel.handle(HttpChannel.java:380)\n",
      "\tat org.sparkproject.jetty.server.HttpConnection.onFillable(HttpConnection.java:277)\n",
      "\tat org.sparkproject.jetty.io.AbstractConnection$ReadCallback.succeeded(AbstractConnection.java:311)\n",
      "\tat org.sparkproject.jetty.io.FillInterest.fillable(FillInterest.java:105)\n",
      "\tat org.sparkproject.jetty.io.ChannelEndPoint$1.run(ChannelEndPoint.java:104)\n",
      "\tat org.sparkproject.jetty.util.thread.strategy.EatWhatYouKill.runTask(EatWhatYouKill.java:336)\n",
      "\tat org.sparkproject.jetty.util.thread.strategy.EatWhatYouKill.doProduce(EatWhatYouKill.java:313)\n",
      "\tat org.sparkproject.jetty.util.thread.strategy.EatWhatYouKill.tryProduce(EatWhatYouKill.java:171)\n",
      "\tat org.sparkproject.jetty.util.thread.strategy.EatWhatYouKill.produce(EatWhatYouKill.java:135)\n",
      "\tat org.sparkproject.jetty.util.thread.QueuedThreadPool.runJob(QueuedThreadPool.java:882)\n",
      "\tat org.sparkproject.jetty.util.thread.QueuedThreadPool$Runner.run(QueuedThreadPool.java:1036)\n",
      "\tat java.lang.Thread.run(Thread.java:750)\n",
      "24/04/16 03:56:27 WARN MetricsConfig: Cannot locate configuration: tried hadoop-metrics2-s3a-file-system.properties,hadoop-metrics2.properties\n"
     ]
    }
   ],
   "source": [
    "spark = SparkSession\\\n",
    "    .builder\\\n",
    "    .master(\"local[*]\")\\\n",
    "    .appName(\"SimpleSession\")\\\n",
    "    .getOrCreate()"
   ]
  },
  {
   "cell_type": "code",
   "execution_count": 4,
   "id": "192cf257-2b34-4d8f-b69a-0004d1d599c8",
   "metadata": {
    "tags": []
   },
   "outputs": [
    {
     "data": {
      "text/html": [
       "\n",
       "            <div>\n",
       "                <p><b>SparkSession - hive</b></p>\n",
       "                \n",
       "        <div>\n",
       "            <p><b>SparkContext</b></p>\n",
       "\n",
       "            <p><a href=\"http://100.100.152.94:20049\">Spark UI</a></p>\n",
       "\n",
       "            <dl>\n",
       "              <dt>Version</dt>\n",
       "                <dd><code>v3.2.3.1.19.7215.0-118</code></dd>\n",
       "              <dt>Master</dt>\n",
       "                <dd><code>local[*]</code></dd>\n",
       "              <dt>AppName</dt>\n",
       "                <dd><code>SimpleSession</code></dd>\n",
       "            </dl>\n",
       "        </div>\n",
       "        \n",
       "            </div>\n",
       "        "
      ],
      "text/plain": [
       "<pyspark.sql.session.SparkSession at 0x7f6699ab5340>"
      ]
     },
     "execution_count": 4,
     "metadata": {},
     "output_type": "execute_result"
    }
   ],
   "source": [
    "spark"
   ]
  },
  {
   "cell_type": "code",
   "execution_count": 5,
   "id": "2072f567-f206-442c-b570-f2586a4a7249",
   "metadata": {
    "tags": []
   },
   "outputs": [
    {
     "name": "stdout",
     "output_type": "stream",
     "text": [
      "https://spark-m1j5qguflp44636k.ml-9d3fb570-b59.col1-cdp.xfaz-gdb4.cloudera.site\n"
     ]
    }
   ],
   "source": [
    "import os\n",
    "print(\"https://spark-\"+os.environ[\"CDSW_ENGINE_ID\"]+\".\"+os.environ[\"CDSW_DOMAIN\"])"
   ]
  },
  {
   "cell_type": "markdown",
   "id": "ee0fee31-2c9c-4b37-9eff-ede644f5e079",
   "metadata": {},
   "source": [
    "You can reach the Spark UI from the URL as shown above."
   ]
  },
  {
   "cell_type": "markdown",
   "id": "c5f8f2ab-f3e7-4349-a867-bf7bfb202092",
   "metadata": {},
   "source": [
    "![title](img/spark_ui.png)"
   ]
  },
  {
   "cell_type": "markdown",
   "id": "3db12df6-ce12-4430-82bd-8fb297c11cd6",
   "metadata": {},
   "source": [
    "You can stop the Spark session any time as below"
   ]
  },
  {
   "cell_type": "markdown",
   "id": "9d902e21-2c74-443a-afe8-0c8fb7045d4f",
   "metadata": {},
   "source": [
    "Let's try a Spark Session with more horsepower. You can increase number of cores and memory for the Driver and Executors with the following settings"
   ]
  },
  {
   "cell_type": "code",
   "execution_count": 6,
   "id": "5ab340e8-3bc7-43b1-9936-72b147e863c7",
   "metadata": {
    "tags": []
   },
   "outputs": [
    {
     "data": {
      "text/plain": [
       "'spark = SparkSession    .builder    .master(\"local\")    .appName(\"DistributedSession\")    .config(\"spark.executor.memory\",\"2g\")    .config(\"spark.executor.cores\",\"5\")    .config(\"spark.driver.memory\",\"2g\")    .getOrCreate()'"
      ]
     },
     "execution_count": 6,
     "metadata": {},
     "output_type": "execute_result"
    }
   ],
   "source": [
    "\"\"\"spark = SparkSession\\\n",
    "    .builder\\\n",
    "    .master(\"local\")\\\n",
    "    .appName(\"DistributedSession\")\\\n",
    "    .config(\"spark.executor.memory\",\"2g\")\\\n",
    "    .config(\"spark.executor.cores\",\"5\")\\\n",
    "    .config(\"spark.driver.memory\",\"2g\")\\\n",
    "    .getOrCreate()\"\"\""
   ]
  },
  {
   "cell_type": "markdown",
   "id": "c9a1eb4e-f8f5-4813-82f1-478d5bb74cc0",
   "metadata": {},
   "source": [
    "You just created a distributed Spark Session with 1 Driver and 5 Executors. Each Executor has 8 cores and 2GB of memory. Not bad!"
   ]
  },
  {
   "cell_type": "code",
   "execution_count": 7,
   "id": "523db608-adcc-43f7-874f-854a8a2e8e9d",
   "metadata": {
    "tags": []
   },
   "outputs": [],
   "source": [
    "spark.stop()"
   ]
  },
  {
   "cell_type": "markdown",
   "id": "d82c4215-62c1-4d73-9845-352a7f907867",
   "metadata": {},
   "source": [
    "## Spark Data Connections"
   ]
  },
  {
   "cell_type": "markdown",
   "id": "19aab8d0-1921-4d32-947e-5074757b4ac0",
   "metadata": {},
   "source": [
    "The best way to launch a spark session is however Spark Data Connections. This feature provides the code you need to launch your Spark Session and already includes the Iceberg jars to enable Lakehouse analytics!"
   ]
  },
  {
   "cell_type": "markdown",
   "id": "3c1f92ac-be4b-4a8a-98e5-f58b7de9bb63",
   "metadata": {},
   "source": [
    "To launch a Spark Data Connection, open \"Data\" and pick the \"Spark\" option. Then copy paste the code into the cell below:"
   ]
  },
  {
   "cell_type": "markdown",
   "id": "6e68c3b6-548d-4ce6-8a8c-49e774828feb",
   "metadata": {
    "tags": []
   },
   "source": [
    "![title](img/dataconnections.png)"
   ]
  },
  {
   "cell_type": "code",
   "execution_count": 8,
   "id": "fea1dce7-f895-46c4-abc1-3191dd24580e",
   "metadata": {
    "tags": []
   },
   "outputs": [
    {
     "name": "stderr",
     "output_type": "stream",
     "text": [
      "24/04/16 03:56:29 WARN SparkConf: The configuration key 'spark.yarn.access.hadoopFileSystems' has been deprecated as of Spark 3.0 and may be removed in the future. Please use the new key 'spark.kerberos.access.hadoopFileSystems' instead.\n",
      "24/04/16 03:56:30 WARN JettyUtils: GET /jobs/ failed: java.util.NoSuchElementException: Failed to get the application information. If you are starting up Spark, please wait a while until it's ready.\n",
      "java.util.NoSuchElementException: Failed to get the application information. If you are starting up Spark, please wait a while until it's ready.\n",
      "\tat org.apache.spark.status.AppStatusStore.applicationInfo(AppStatusStore.scala:51)\n",
      "\tat org.apache.spark.ui.jobs.AllJobsPage.render(AllJobsPage.scala:276)\n",
      "\tat org.apache.spark.ui.WebUI.$anonfun$attachPage$1(WebUI.scala:90)\n",
      "\tat org.apache.spark.ui.JettyUtils$$anon$1.doGet(JettyUtils.scala:81)\n",
      "\tat javax.servlet.http.HttpServlet.service(HttpServlet.java:687)\n",
      "\tat javax.servlet.http.HttpServlet.service(HttpServlet.java:790)\n",
      "\tat org.sparkproject.jetty.servlet.ServletHolder.handle(ServletHolder.java:791)\n",
      "\tat org.sparkproject.jetty.servlet.ServletHandler$ChainEnd.doFilter(ServletHandler.java:1626)\n",
      "\tat org.apache.spark.ui.HttpSecurityFilter.doFilter(HttpSecurityFilter.scala:95)\n",
      "\tat org.sparkproject.jetty.servlet.FilterHolder.doFilter(FilterHolder.java:193)\n",
      "\tat org.sparkproject.jetty.servlet.ServletHandler$Chain.doFilter(ServletHandler.java:1601)\n",
      "\tat org.sparkproject.jetty.servlet.ServletHandler.doHandle(ServletHandler.java:548)\n",
      "\tat org.sparkproject.jetty.server.handler.ScopedHandler.nextHandle(ScopedHandler.java:233)\n",
      "\tat org.sparkproject.jetty.server.handler.ContextHandler.doHandle(ContextHandler.java:1435)\n",
      "\tat org.sparkproject.jetty.server.handler.ScopedHandler.nextScope(ScopedHandler.java:188)\n",
      "\tat org.sparkproject.jetty.servlet.ServletHandler.doScope(ServletHandler.java:501)\n",
      "\tat org.sparkproject.jetty.server.handler.ScopedHandler.nextScope(ScopedHandler.java:186)\n",
      "\tat org.sparkproject.jetty.server.handler.ContextHandler.doScope(ContextHandler.java:1350)\n",
      "\tat org.sparkproject.jetty.server.handler.ScopedHandler.handle(ScopedHandler.java:141)\n",
      "\tat org.sparkproject.jetty.server.handler.gzip.GzipHandler.handle(GzipHandler.java:763)\n",
      "\tat org.sparkproject.jetty.server.handler.ContextHandlerCollection.handle(ContextHandlerCollection.java:234)\n",
      "\tat org.sparkproject.jetty.server.handler.HandlerWrapper.handle(HandlerWrapper.java:127)\n",
      "\tat org.apache.spark.ui.ProxyRedirectHandler.handle(JettyUtils.scala:581)\n",
      "\tat org.sparkproject.jetty.server.handler.HandlerWrapper.handle(HandlerWrapper.java:127)\n",
      "\tat org.sparkproject.jetty.server.Server.handle(Server.java:516)\n",
      "\tat org.sparkproject.jetty.server.HttpChannel.lambda$handle$1(HttpChannel.java:388)\n",
      "\tat org.sparkproject.jetty.server.HttpChannel.dispatch(HttpChannel.java:633)\n",
      "\tat org.sparkproject.jetty.server.HttpChannel.handle(HttpChannel.java:380)\n",
      "\tat org.sparkproject.jetty.server.HttpConnection.onFillable(HttpConnection.java:277)\n",
      "\tat org.sparkproject.jetty.io.AbstractConnection$ReadCallback.succeeded(AbstractConnection.java:311)\n",
      "\tat org.sparkproject.jetty.io.FillInterest.fillable(FillInterest.java:105)\n",
      "\tat org.sparkproject.jetty.io.ChannelEndPoint$1.run(ChannelEndPoint.java:104)\n",
      "\tat org.sparkproject.jetty.util.thread.strategy.EatWhatYouKill.runTask(EatWhatYouKill.java:336)\n",
      "\tat org.sparkproject.jetty.util.thread.strategy.EatWhatYouKill.doProduce(EatWhatYouKill.java:313)\n",
      "\tat org.sparkproject.jetty.util.thread.strategy.EatWhatYouKill.tryProduce(EatWhatYouKill.java:171)\n",
      "\tat org.sparkproject.jetty.util.thread.strategy.EatWhatYouKill.produce(EatWhatYouKill.java:135)\n",
      "\tat org.sparkproject.jetty.util.thread.QueuedThreadPool.runJob(QueuedThreadPool.java:882)\n",
      "\tat org.sparkproject.jetty.util.thread.QueuedThreadPool$Runner.run(QueuedThreadPool.java:1036)\n",
      "\tat java.lang.Thread.run(Thread.java:750)\n",
      "24/04/16 03:56:30 WARN HttpChannel: /jobs/\n",
      "java.util.NoSuchElementException: Failed to get the application information. If you are starting up Spark, please wait a while until it's ready.\n",
      "\tat org.apache.spark.status.AppStatusStore.applicationInfo(AppStatusStore.scala:51)\n",
      "\tat org.apache.spark.ui.jobs.AllJobsPage.render(AllJobsPage.scala:276)\n",
      "\tat org.apache.spark.ui.WebUI.$anonfun$attachPage$1(WebUI.scala:90)\n",
      "\tat org.apache.spark.ui.JettyUtils$$anon$1.doGet(JettyUtils.scala:81)\n",
      "\tat javax.servlet.http.HttpServlet.service(HttpServlet.java:687)\n",
      "\tat javax.servlet.http.HttpServlet.service(HttpServlet.java:790)\n",
      "\tat org.sparkproject.jetty.servlet.ServletHolder.handle(ServletHolder.java:791)\n",
      "\tat org.sparkproject.jetty.servlet.ServletHandler$ChainEnd.doFilter(ServletHandler.java:1626)\n",
      "\tat org.apache.spark.ui.HttpSecurityFilter.doFilter(HttpSecurityFilter.scala:95)\n",
      "\tat org.sparkproject.jetty.servlet.FilterHolder.doFilter(FilterHolder.java:193)\n",
      "\tat org.sparkproject.jetty.servlet.ServletHandler$Chain.doFilter(ServletHandler.java:1601)\n",
      "\tat org.sparkproject.jetty.servlet.ServletHandler.doHandle(ServletHandler.java:548)\n",
      "\tat org.sparkproject.jetty.server.handler.ScopedHandler.nextHandle(ScopedHandler.java:233)\n",
      "\tat org.sparkproject.jetty.server.handler.ContextHandler.doHandle(ContextHandler.java:1435)\n",
      "\tat org.sparkproject.jetty.server.handler.ScopedHandler.nextScope(ScopedHandler.java:188)\n",
      "\tat org.sparkproject.jetty.servlet.ServletHandler.doScope(ServletHandler.java:501)\n",
      "\tat org.sparkproject.jetty.server.handler.ScopedHandler.nextScope(ScopedHandler.java:186)\n",
      "\tat org.sparkproject.jetty.server.handler.ContextHandler.doScope(ContextHandler.java:1350)\n",
      "\tat org.sparkproject.jetty.server.handler.ScopedHandler.handle(ScopedHandler.java:141)\n",
      "\tat org.sparkproject.jetty.server.handler.gzip.GzipHandler.handle(GzipHandler.java:763)\n",
      "\tat org.sparkproject.jetty.server.handler.ContextHandlerCollection.handle(ContextHandlerCollection.java:234)\n",
      "\tat org.sparkproject.jetty.server.handler.HandlerWrapper.handle(HandlerWrapper.java:127)\n",
      "\tat org.apache.spark.ui.ProxyRedirectHandler.handle(JettyUtils.scala:581)\n",
      "\tat org.sparkproject.jetty.server.handler.HandlerWrapper.handle(HandlerWrapper.java:127)\n",
      "\tat org.sparkproject.jetty.server.Server.handle(Server.java:516)\n",
      "\tat org.sparkproject.jetty.server.HttpChannel.lambda$handle$1(HttpChannel.java:388)\n",
      "\tat org.sparkproject.jetty.server.HttpChannel.dispatch(HttpChannel.java:633)\n",
      "\tat org.sparkproject.jetty.server.HttpChannel.handle(HttpChannel.java:380)\n",
      "\tat org.sparkproject.jetty.server.HttpConnection.onFillable(HttpConnection.java:277)\n",
      "\tat org.sparkproject.jetty.io.AbstractConnection$ReadCallback.succeeded(AbstractConnection.java:311)\n",
      "\tat org.sparkproject.jetty.io.FillInterest.fillable(FillInterest.java:105)\n",
      "\tat org.sparkproject.jetty.io.ChannelEndPoint$1.run(ChannelEndPoint.java:104)\n",
      "\tat org.sparkproject.jetty.util.thread.strategy.EatWhatYouKill.runTask(EatWhatYouKill.java:336)\n",
      "\tat org.sparkproject.jetty.util.thread.strategy.EatWhatYouKill.doProduce(EatWhatYouKill.java:313)\n",
      "\tat org.sparkproject.jetty.util.thread.strategy.EatWhatYouKill.tryProduce(EatWhatYouKill.java:171)\n",
      "\tat org.sparkproject.jetty.util.thread.strategy.EatWhatYouKill.produce(EatWhatYouKill.java:135)\n",
      "\tat org.sparkproject.jetty.util.thread.QueuedThreadPool.runJob(QueuedThreadPool.java:882)\n",
      "\tat org.sparkproject.jetty.util.thread.QueuedThreadPool$Runner.run(QueuedThreadPool.java:1036)\n",
      "\tat java.lang.Thread.run(Thread.java:750)\n",
      "24/04/16 03:56:33 WARN HiveClientImpl: Detected HiveConf hive.execution.engine is 'tez' and will be reset to 'mr' to disable useless hive logic\n",
      "Hive Session ID = 8ba87e8b-d72c-4425-8e44-42ec5e8cc6b0\n"
     ]
    },
    {
     "name": "stdout",
     "output_type": "stream",
     "text": [
      "+-------------------+\n",
      "|          namespace|\n",
      "+-------------------+\n",
      "|            default|\n",
      "| information_schema|\n",
      "|                sys|\n",
      "|trafico_pauldefusco|\n",
      "+-------------------+\n",
      "\n"
     ]
    }
   ],
   "source": [
    "import cml.data_v1 as cmldata\n",
    "\n",
    "# Sample in-code customization of spark configurations\n",
    "#from pyspark import SparkContext\n",
    "#SparkContext.setSystemProperty('spark.executor.cores', '1')\n",
    "#SparkContext.setSystemProperty('spark.executor.memory', '2g')\n",
    "\n",
    "CONNECTION_NAME = \"col1-aw-dl\"\n",
    "\n",
    "conn = cmldata.get_connection(CONNECTION_NAME)\n",
    "spark = conn.get_spark_session()\n",
    "\n",
    "# Sample usage to run query through spark\n",
    "EXAMPLE_SQL_QUERY = \"show databases\"\n",
    "spark.sql(EXAMPLE_SQL_QUERY).show()"
   ]
  },
  {
   "cell_type": "markdown",
   "id": "dominant-capital",
   "metadata": {},
   "source": [
    "## Intro to Spark SQL"
   ]
  },
  {
   "cell_type": "code",
   "execution_count": 9,
   "id": "mineral-likelihood",
   "metadata": {
    "tags": []
   },
   "outputs": [],
   "source": [
    "import numpy as np\n",
    "import pandas as pd\n",
    "import os\n",
    "import matplotlib.pyplot as plt\n",
    "import seaborn as sns"
   ]
  },
  {
   "cell_type": "code",
   "execution_count": 10,
   "id": "increasing-blackjack",
   "metadata": {
    "tags": []
   },
   "outputs": [],
   "source": [
    "df = spark.read.option(\"inferschema\", True).option(\"header\", True).csv('data/crimen_sample.csv')"
   ]
  },
  {
   "cell_type": "code",
   "execution_count": 11,
   "id": "wireless-acrobat",
   "metadata": {
    "tags": []
   },
   "outputs": [
    {
     "name": "stdout",
     "output_type": "stream",
     "text": [
      "Dataframe Shape\n",
      "(50000, 19)\n"
     ]
    }
   ],
   "source": [
    "#Printing number of rows and columns:\n",
    "print('Dataframe Shape')\n",
    "print((df.count(), len(df.columns)))"
   ]
  },
  {
   "cell_type": "code",
   "execution_count": 12,
   "id": "f12da15a-7ba5-482e-bfee-a3f921c7661d",
   "metadata": {
    "tags": []
   },
   "outputs": [
    {
     "name": "stdout",
     "output_type": "stream",
     "text": [
      "+--------------------+----------+-----+--------------------+----------------+----------------+-----+-----------------+-------+--------------+----------+-------------------+--------+--------+---------+---------------+----------------+-------+-----------+\n",
      "|              nombre|docu_ident| edad|          profession|         num_tel|quejas_por_ruido|robos|robos_mano_armada|asaltos|robos_vehiculo|vandalismo|incendios_provocado|longitud| latitud|homicidio|abusos_infantil|abusos_domestico|estafas|reincidente|\n",
      "+--------------------+----------+-----+--------------------+----------------+----------------+-----+-----------------+-------+--------------+----------+-------------------+--------+--------+---------+---------------+----------------+-------+-----------+\n",
      "|Teodora Milla-Nic...| Y21130180|100.0|           Tronzador|  +34982 558 524|             1.0|  3.0|              3.0|    1.0|           3.0|       1.0|                0.0|  6.2456|-75.5629|      1.0|            1.0|             6.0|    7.0|          0|\n",
      "|Palmira Alberola ...| Z02572182| 30.0|  Oficinista general|  +34925 979 481|             1.0|  0.0|              1.0|    2.0|           2.0|       2.0|                6.0|  6.2456|-75.5629|      2.0|            0.0|             6.0|    5.0|          0|\n",
      "|Consuelo Llobet D...| 243943558| 43.0|Inspector medioam...|   +34 987097480|             2.0|  1.0|              3.0|    3.0|           2.0|       2.0|                6.0|  6.2456|-75.5629|      1.0|            1.0|             8.0|    0.0|          1|\n",
      "|  Adora Bernad Costa| 309977570| 22.0|Trabajador agríco...|    +34900393237|             3.0|  2.0|              5.0|    3.0|           1.0|       1.0|                9.0|  6.2456|-75.5629|      2.0|            3.0|             4.0|    7.0|          0|\n",
      "|   Arsenio de Llobet| E31563452| 13.0|         Antropólogo|    +34888030914|             3.0|  5.0|              3.0|    1.0|           2.0|       1.0|                7.0|  6.2456|-75.5629|      1.0|            3.0|             6.0|    9.0|          0|\n",
      "|Jose Luis Vaquero...| Q45322106| 88.0|  Piloto de aviación|   +34 842519201|             1.0|  3.0|              3.0|    3.0|           1.0|       3.0|                1.0|  6.2456|-75.5629|      0.0|            1.0|             8.0|    8.0|          1|\n",
      "|Josué Zapata-Rosales| 216855896| 27.0|Conductor de tranvía|  +34824 936 569|             1.0|  1.0|              1.0|    1.0|           2.0|       2.0|                1.0|  6.2456|-75.5629|      2.0|            2.0|             4.0|    0.0|          1|\n",
      "|  Concepción de Abad| 477727247| 30.0|Electricista de o...|   +34 708895459|             2.0|  2.0|              3.0|    2.0|           3.0|       2.0|                1.0|  6.2456|-75.5629|      1.0|            2.0|             7.0|    7.0|          0|\n",
      "|Gerónimo Villalon...| 063485856| 64.0|Practicante param...| +34826 31 42 73|             3.0|  3.0|              5.0|    3.0|           3.0|       1.0|                7.0|  6.2456|-75.5629|      0.0|            1.0|             9.0|    9.0|          0|\n",
      "| Josefa Aguado Lluch| E55251445| 57.0|Profesor de unive...|    +34803109600|             1.0|  1.0|              2.0|    2.0|           2.0|       0.0|                7.0|  6.2456|-76.5629|      1.0|            1.0|             4.0|    6.0|          0|\n",
      "|   Anabel Montesinos| J01034780| 30.0|          Paisajista|   +34 806055671|             1.0|  3.0|              3.0|    1.0|           0.0|       2.0|                8.0|  6.2456|-76.5629|      0.0|            2.0|             3.0|    1.0|          0|\n",
      "| Héctor del Carballo| 484729126| 16.0|         Veterinario| +34988 89 97 76|             1.0|  0.0|              4.0|    4.0|           3.0|       0.0|                4.0|  6.2456|-76.5629|      0.0|            1.0|             1.0|    2.0|          0|\n",
      "|Andrés Felipe Cor...| C80953651| 34.0|Empalmador de cables|   +34 881332897|             2.0|  4.0|              2.0|    1.0|           3.0|       2.0|                2.0|  6.2456|-75.5629|      0.0|            1.0|             3.0|    4.0|          0|\n",
      "|Encarnacion Alemá...| 921737444| 40.0|Operador de máqui...|    +34953078153|             0.0|  4.0|              4.0|    3.0|           2.0|       1.0|                5.0|  6.2456|-75.5629|      2.0|            2.0|             4.0|    6.0|          0|\n",
      "|   Guillermo Roselló| T13259356| 18.0|Ingeniero electri...|   +34 883400447|             3.0|  1.0|              1.0|    3.0|           2.0|       1.0|                8.0|  6.2456|-76.5629|      1.0|            1.0|             1.0|   10.0|          0|\n",
      "| Laura Páez Martinez| 531571139| 92.0|Trabajador comuni...|   +34 922160230|             1.0|  1.0|              1.0|    1.0|           2.0|       3.0|                9.0|  6.2456|-76.5629|      1.0|            3.0|             0.0|    8.0|          0|\n",
      "| Candela del Bonilla| 344262331| 66.0|Supervisor de sec...|+34 913 64 44 93|             0.0|  2.0|              1.0|    1.0|           1.0|       2.0|                5.0|  6.2456|-76.5629|      1.0|            0.0|             2.0|    6.0|          0|\n",
      "|Nando Campos Vázquez| 318296497| 75.0|           Detective|  +34832 114 646|             2.0|  2.0|              1.0|    0.0|           2.0|       1.0|                3.0|  6.2456|-75.5629|      2.0|            1.0|             5.0|    6.0|          0|\n",
      "|  Emiliano de Guzmán| 695897934| 41.0|Mecánico y repara...|  +34742 246 376|             2.0|  5.0|              3.0|    2.0|           1.0|       1.0|                6.0|  6.2456|-76.5629|      1.0|            1.0|            10.0|    7.0|          0|\n",
      "|Fabricio Sanmartí...| A40455554| 81.0| Profesor de idiomas|  +34923 506 176|             3.0|  3.0|              3.0|    3.0|           2.0|       1.0|                8.0|  6.2456|-75.5629|      1.0|            1.0|             8.0|    4.0|          0|\n",
      "+--------------------+----------+-----+--------------------+----------------+----------------+-----+-----------------+-------+--------------+----------+-------------------+--------+--------+---------+---------------+----------------+-------+-----------+\n",
      "only showing top 20 rows\n",
      "\n"
     ]
    }
   ],
   "source": [
    "df.show()"
   ]
  },
  {
   "cell_type": "code",
   "execution_count": 13,
   "id": "10880ecc-2f98-4afb-bb15-2ecb78ba0866",
   "metadata": {
    "tags": []
   },
   "outputs": [
    {
     "name": "stdout",
     "output_type": "stream",
     "text": [
      "root\n",
      " |-- nombre: string (nullable = true)\n",
      " |-- docu_ident: string (nullable = true)\n",
      " |-- edad: double (nullable = true)\n",
      " |-- profession: string (nullable = true)\n",
      " |-- num_tel: string (nullable = true)\n",
      " |-- quejas_por_ruido: double (nullable = true)\n",
      " |-- robos: double (nullable = true)\n",
      " |-- robos_mano_armada: double (nullable = true)\n",
      " |-- asaltos: double (nullable = true)\n",
      " |-- robos_vehiculo: double (nullable = true)\n",
      " |-- vandalismo: double (nullable = true)\n",
      " |-- incendios_provocado: double (nullable = true)\n",
      " |-- longitud: double (nullable = true)\n",
      " |-- latitud: double (nullable = true)\n",
      " |-- homicidio: double (nullable = true)\n",
      " |-- abusos_infantil: double (nullable = true)\n",
      " |-- abusos_domestico: double (nullable = true)\n",
      " |-- estafas: double (nullable = true)\n",
      " |-- reincidente: integer (nullable = true)\n",
      "\n"
     ]
    }
   ],
   "source": [
    "df.printSchema()"
   ]
  },
  {
   "cell_type": "markdown",
   "id": "equal-peoples",
   "metadata": {},
   "source": [
    "## KPI Reporting"
   ]
  },
  {
   "cell_type": "code",
   "execution_count": 14,
   "id": "6e6b79a9-45de-4d2c-9baa-6984885bd401",
   "metadata": {
    "tags": []
   },
   "outputs": [],
   "source": [
    "import pyspark.sql.functions as F\n",
    "import seaborn as sns\n",
    "from pyspark.ml.feature import Bucketizer"
   ]
  },
  {
   "cell_type": "markdown",
   "id": "ab02a5ff-5e82-431b-9553-add0317a924d",
   "metadata": {},
   "source": [
    "#### Min and Max Lat / Long Amount "
   ]
  },
  {
   "cell_type": "code",
   "execution_count": 15,
   "id": "d7612618-17d0-4ca4-987f-6471588f8785",
   "metadata": {
    "tags": []
   },
   "outputs": [
    {
     "name": "stdout",
     "output_type": "stream",
     "text": [
      "Minimum Latitude\n",
      "+------------+\n",
      "|min(latitud)|\n",
      "+------------+\n",
      "|    -76.5629|\n",
      "+------------+\n",
      "\n",
      "Maximum Longitude\n",
      "+-------------+\n",
      "|max(longitud)|\n",
      "+-------------+\n",
      "|       6.2456|\n",
      "+-------------+\n",
      "\n"
     ]
    }
   ],
   "source": [
    "print(\"Minimum Latitude\")\n",
    "df.agg(F.min(\"latitud\")).show()\n",
    "\n",
    "print(\"Maximum Longitude\")\n",
    "df.agg(F.max(\"longitud\")).show()"
   ]
  },
  {
   "cell_type": "markdown",
   "id": "6526352f-94bd-484b-a1ab-c30e043c5839",
   "metadata": {},
   "source": [
    "#### Create Bins from the Loan Amount Column"
   ]
  },
  {
   "cell_type": "code",
   "execution_count": 16,
   "id": "b8d245df-9c77-4bf3-af86-43eb817cd1dd",
   "metadata": {
    "tags": []
   },
   "outputs": [],
   "source": [
    "df2 = Bucketizer(\n",
    "    splits=[0, 25, 50, 75, 100],\n",
    "    inputCol='edad',\n",
    "    outputCol='edad_bin'\n",
    ").transform(df)"
   ]
  },
  {
   "cell_type": "code",
   "execution_count": 17,
   "id": "b8c8a1fc-d044-402c-87ec-8d6346c8f401",
   "metadata": {
    "tags": []
   },
   "outputs": [
    {
     "data": {
      "text/html": [
       "<div>\n",
       "<style scoped>\n",
       "    .dataframe tbody tr th:only-of-type {\n",
       "        vertical-align: middle;\n",
       "    }\n",
       "\n",
       "    .dataframe tbody tr th {\n",
       "        vertical-align: top;\n",
       "    }\n",
       "\n",
       "    .dataframe thead th {\n",
       "        text-align: right;\n",
       "    }\n",
       "</style>\n",
       "<table border=\"1\" class=\"dataframe\">\n",
       "  <thead>\n",
       "    <tr style=\"text-align: right;\">\n",
       "      <th></th>\n",
       "      <th>edad_bin</th>\n",
       "    </tr>\n",
       "  </thead>\n",
       "  <tbody>\n",
       "    <tr>\n",
       "      <th>0</th>\n",
       "      <td>3.0</td>\n",
       "    </tr>\n",
       "    <tr>\n",
       "      <th>1</th>\n",
       "      <td>1.0</td>\n",
       "    </tr>\n",
       "    <tr>\n",
       "      <th>2</th>\n",
       "      <td>1.0</td>\n",
       "    </tr>\n",
       "    <tr>\n",
       "      <th>3</th>\n",
       "      <td>0.0</td>\n",
       "    </tr>\n",
       "    <tr>\n",
       "      <th>4</th>\n",
       "      <td>0.0</td>\n",
       "    </tr>\n",
       "    <tr>\n",
       "      <th>...</th>\n",
       "      <td>...</td>\n",
       "    </tr>\n",
       "    <tr>\n",
       "      <th>49995</th>\n",
       "      <td>3.0</td>\n",
       "    </tr>\n",
       "    <tr>\n",
       "      <th>49996</th>\n",
       "      <td>2.0</td>\n",
       "    </tr>\n",
       "    <tr>\n",
       "      <th>49997</th>\n",
       "      <td>2.0</td>\n",
       "    </tr>\n",
       "    <tr>\n",
       "      <th>49998</th>\n",
       "      <td>3.0</td>\n",
       "    </tr>\n",
       "    <tr>\n",
       "      <th>49999</th>\n",
       "      <td>3.0</td>\n",
       "    </tr>\n",
       "  </tbody>\n",
       "</table>\n",
       "<p>50000 rows × 1 columns</p>\n",
       "</div>"
      ],
      "text/plain": [
       "       edad_bin\n",
       "0           3.0\n",
       "1           1.0\n",
       "2           1.0\n",
       "3           0.0\n",
       "4           0.0\n",
       "...         ...\n",
       "49995       3.0\n",
       "49996       2.0\n",
       "49997       2.0\n",
       "49998       3.0\n",
       "49999       3.0\n",
       "\n",
       "[50000 rows x 1 columns]"
      ]
     },
     "execution_count": 17,
     "metadata": {},
     "output_type": "execute_result"
    }
   ],
   "source": [
    "df2_pandas = df2.select(\"edad_bin\").toPandas()\n",
    "df2_pandas"
   ]
  },
  {
   "cell_type": "code",
   "execution_count": 18,
   "id": "d967d331-4295-4841-b43e-778925879b22",
   "metadata": {
    "tags": []
   },
   "outputs": [
    {
     "data": {
      "image/png": "[encoded data removed]",
      "text/plain": [
       "<Figure size 432x288 with 1 Axes>"
      ]
     },
     "metadata": {
      "needs_background": "light"
     },
     "output_type": "display_data"
    }
   ],
   "source": [
    "sns.countplot(x=\"edad_bin\", data=df2_pandas).set(title='Categorias Edad')\n",
    "plt.show()"
   ]
  },
  {
   "cell_type": "markdown",
   "id": "7b4d41b0-a0b3-4708-b835-707c62654143",
   "metadata": {},
   "source": [
    "### Rounded Mean Frauds By Noise Complaint Bins"
   ]
  },
  {
   "cell_type": "code",
   "execution_count": 19,
   "id": "rough-keyboard",
   "metadata": {
    "tags": []
   },
   "outputs": [
    {
     "name": "stdout",
     "output_type": "stream",
     "text": [
      "+--------+------------------+\n",
      "|edad_bin|CEIL(avg(estafas))|\n",
      "+--------+------------------+\n",
      "|     0.0|                 5|\n",
      "|     1.0|                 5|\n",
      "|     3.0|                 6|\n",
      "|     2.0|                 6|\n",
      "+--------+------------------+\n",
      "\n"
     ]
    }
   ],
   "source": [
    "#how many loans defaulted for each month (all data is 2015):\n",
    "df2.groupby('edad_bin').mean('estafas').na.drop().select(\"edad_bin\", F.ceil(F.col(\"avg(estafas)\"))).show()"
   ]
  },
  {
   "cell_type": "markdown",
   "id": "breathing-parcel",
   "metadata": {},
   "source": [
    "### Spark SQL"
   ]
  },
  {
   "cell_type": "code",
   "execution_count": 20,
   "id": "surprising-communications",
   "metadata": {
    "tags": []
   },
   "outputs": [
    {
     "name": "stdout",
     "output_type": "stream",
     "text": [
      "+-------------------+\n",
      "|          namespace|\n",
      "+-------------------+\n",
      "|            default|\n",
      "| information_schema|\n",
      "|                sys|\n",
      "|trafico_pauldefusco|\n",
      "+-------------------+\n",
      "\n"
     ]
    }
   ],
   "source": [
    "spark.sql(\"show databases\").show()"
   ]
  },
  {
   "cell_type": "markdown",
   "id": "e0b34297-b042-46bb-984e-dcdf4727b047",
   "metadata": {},
   "source": [
    "#### Saving the Table As Temporary View"
   ]
  },
  {
   "cell_type": "code",
   "execution_count": 21,
   "id": "2fe1e885-bdb6-4173-b290-b17042f74c17",
   "metadata": {
    "tags": []
   },
   "outputs": [],
   "source": [
    "## Registering the dataframe as a temporary table:\n",
    "## Temporary views in Spark SQL are session-scoped and will disappear if the session that creates it terminates. \n",
    "\n",
    "df2.createOrReplaceTempView(\"my_temp_view\")"
   ]
  },
  {
   "cell_type": "code",
   "execution_count": 22,
   "id": "56b6f592-bc34-41df-ae11-3e7ce3eddaeb",
   "metadata": {
    "tags": []
   },
   "outputs": [
    {
     "name": "stdout",
     "output_type": "stream",
     "text": [
      "+--------------------+----------+\n",
      "|              nombre|docu_ident|\n",
      "+--------------------+----------+\n",
      "|  Paula Gimenez León| H67218539|\n",
      "| Marciano Puig Casal| 208382887|\n",
      "|Ezequiel Romeu Álamo| 301068599|\n",
      "|Natalia Solsona B...| Z14319122|\n",
      "|Osvaldo Arrieta A...| S49483925|\n",
      "|  Adán Mariño Amores| V41192398|\n",
      "|Eusebia Durán Her...| 488521765|\n",
      "|Plácido Guardia V...| 069083395|\n",
      "|      Azahara Quirós| 854362322|\n",
      "|      Modesta Castro| G27909539|\n",
      "|     Damián Mur Puga| X19786829|\n",
      "|Eladio Ibáñez Fig...| 529229748|\n",
      "|Nieves Bautista-F...| 627831795|\n",
      "|     Amanda Gargallo| M25295650|\n",
      "|Kike Heredia Portero| 251500920|\n",
      "|Sarita Villalobos...| V15668701|\n",
      "|   Desiderio Atienza| 986764474|\n",
      "|  Pepe Gallego Calvo| 232030688|\n",
      "|          Román Vila| 008369017|\n",
      "|Ani María Manuela...| 070069967|\n",
      "+--------------------+----------+\n",
      "only showing top 20 rows\n",
      "\n"
     ]
    }
   ],
   "source": [
    "spark.sql(\"SELECT nombre, docu_ident FROM my_temp_view WHERE vandalismo > 2 AND edad < 16\").show()"
   ]
  },
  {
   "cell_type": "code",
   "execution_count": 29,
   "id": "f6b85fed-e710-4aaf-9af3-6109cac9fb01",
   "metadata": {
    "tags": []
   },
   "outputs": [
    {
     "name": "stdout",
     "output_type": "stream",
     "text": [
      "+--------------------+----------+---------------+\n",
      "|              nombre|docu_ident|     profession|\n",
      "+--------------------+----------+---------------+\n",
      "|Casandra Barrios-...| 478995297|Agente de bolsa|\n",
      "|Antonio Ureña Murcia| 157259704|Agente de bolsa|\n",
      "|   Azahar Peral Amor| 369720996|Agente de bolsa|\n",
      "|Imelda Hernando-M...| F66665957|Agente de bolsa|\n",
      "|   Mario Recio Rivas| 991243509|Agente de bolsa|\n",
      "|       Gil Benavente| D68089425|Agente de bolsa|\n",
      "|Flora Clavero Gal...| 401618766|Agente de bolsa|\n",
      "| Cirino Cases Marcos| 779857722|Agente de bolsa|\n",
      "|    Florencio Morera| 221604331|Agente de bolsa|\n",
      "| Tamara Andres Palau| 857144171|Agente de bolsa|\n",
      "| Fanny Vigil Tejedor| B90612846|Agente de bolsa|\n",
      "|Úrsula Barroso Ramis| 338826887|Agente de bolsa|\n",
      "|Consuelo del Camacho| 988063380|Agente de bolsa|\n",
      "|Morena Pía Borreg...| N25125902|Agente de bolsa|\n",
      "|Apolonia Villanue...| 504604007|Agente de bolsa|\n",
      "|Tatiana Barros Po...| R46648964|Agente de bolsa|\n",
      "|     Hernando Arnaiz| B68643740|Agente de bolsa|\n",
      "|Ángeles Reyes Ise...| 333616119|Agente de bolsa|\n",
      "| Amando Aznar Palmer| 362770973|Agente de bolsa|\n",
      "|Consuela Palmer C...| 111991914|Agente de bolsa|\n",
      "+--------------------+----------+---------------+\n",
      "only showing top 20 rows\n",
      "\n"
     ]
    }
   ],
   "source": [
    "spark.sql(\"SELECT nombre, docu_ident, profession FROM my_temp_view WHERE profession == 'Agente de bolsa' AND estafas > 0\").show()"
   ]
  },
  {
   "cell_type": "code",
   "execution_count": 24,
   "id": "4ff296b2-c1af-4f80-9483-bd456a7ac681",
   "metadata": {
    "tags": []
   },
   "outputs": [
    {
     "name": "stdout",
     "output_type": "stream",
     "text": [
      "+-----------+-------------+\n",
      "|reincidente|count(nombre)|\n",
      "+-----------+-------------+\n",
      "|          1|         5123|\n",
      "|          0|        44877|\n",
      "+-----------+-------------+\n",
      "\n"
     ]
    }
   ],
   "source": [
    "spark.sql(\"SELECT reincidente, COUNT(nombre) FROM my_temp_view GROUP BY reincidente\").show()"
   ]
  },
  {
   "cell_type": "code",
   "execution_count": null,
   "id": "24f40c77-9fae-4bca-be95-28f5ca83e070",
   "metadata": {},
   "outputs": [],
   "source": []
  },
  {
   "cell_type": "markdown",
   "id": "a4edf124-12f0-4968-930f-c3c6d3e1519e",
   "metadata": {},
   "source": [
    "#### Saving the Table Permanently in CDW"
   ]
  },
  {
   "cell_type": "code",
   "execution_count": 23,
   "id": "e49e5525-363f-497e-a440-86ec413aa683",
   "metadata": {
    "tags": []
   },
   "outputs": [],
   "source": [
    "## The table will now be a Hive External Table and will show in CDW and Atlas.\n",
    "## Ranger Policies can now be set on the Table\n",
    "\n",
    "#df2.select([\"funded_amnt\", \"loan_amnt\", \"installment\", \"tot_cur_bal\"]).write.format('parquet').mode(\"overwrite\").saveAsTable('default.my_hive_table')"
   ]
  },
  {
   "cell_type": "code",
   "execution_count": 23,
   "id": "795ab942-0457-44c0-9077-cc0c3c99e442",
   "metadata": {
    "tags": []
   },
   "outputs": [],
   "source": [
    "spark.stop()"
   ]
  },
  {
   "cell_type": "code",
   "execution_count": null,
   "id": "3ddb9b78-ca1c-48f9-a4ba-b1f6b2bed47b",
   "metadata": {},
   "outputs": [],
   "source": []
  }
 ],
 "metadata": {
  "kernelspec": {
   "display_name": "Python 3 (ipykernel)",
   "language": "python",
   "name": "python3"
  },
  "language_info": {
   "codemirror_mode": {
    "name": "ipython",
    "version": 3
   },
   "file_extension": ".py",
   "mimetype": "text/x-python",
   "name": "python",
   "nbconvert_exporter": "python",
   "pygments_lexer": "ipython3",
   "version": "3.9.18"
  }
 },
 "nbformat": 4,
 "nbformat_minor": 5
}
